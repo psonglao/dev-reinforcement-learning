{
 "cells": [
  {
   "cell_type": "code",
   "execution_count": 1,
   "metadata": {},
   "outputs": [],
   "source": [
    "import gym\n",
    "import numpy as np\n",
    "import pandas as pd\n",
    "from matplotlib import style, pyplot as plt\n",
    "\n",
    "style.use('ggplot')"
   ]
  },
  {
   "cell_type": "markdown",
   "metadata": {},
   "source": [
    "### CliffWalking Demo"
   ]
  },
  {
   "cell_type": "markdown",
   "metadata": {},
   "source": [
    "We'll have a quick demo of the cliffwalking environment before making our SARSA algorithm.\n",
    "\n",
    "Functions used in the cell below:\n",
    "- `env = gym.make(env_name)` : creates a gym environment using the specified environment name.\n",
    "- `env.render()`: visualizes your environment\n",
    "- `env.step(action)`: implements the given `action` in the environment. `action` must be part of `env.action_space`.\n",
    "    - every step, the environment generates the following output:<br>\n",
    "    `observation, reward, done, info = env.step(action)`\n",
    "\n",
    "Below, we perform 5 random actions in the environment and print the relevant output. Some things to note:\n",
    "- *observation*: The cell we move to.\n",
    "- *reward*: When the agent steps onto the cliff, the reward is -100. Any other outcome has a reward of -1.<br>We want to maximize this reward (keep it as close to 0 as possible).\n",
    "- *done*: This will only be true when we reach the target \"T\"."
   ]
  },
  {
   "cell_type": "code",
   "execution_count": 2,
   "metadata": {},
   "outputs": [
    {
     "name": "stdout",
     "output_type": "stream",
     "text": [
      "Initial position\n",
      "o  o  o  o  o  o  o  o  o  o  o  o\n",
      "o  o  o  o  o  o  o  o  o  o  o  o\n",
      "o  o  o  o  o  o  o  o  o  o  o  o\n",
      "x  C  C  C  C  C  C  C  C  C  C  T\n",
      "\n",
      "Random step 1 : right\n",
      "observation: 36, reward: -100, done: False\n",
      "o  o  o  o  o  o  o  o  o  o  o  o\n",
      "o  o  o  o  o  o  o  o  o  o  o  o\n",
      "o  o  o  o  o  o  o  o  o  o  o  o\n",
      "x  C  C  C  C  C  C  C  C  C  C  T\n",
      "\n",
      "Random step 2 : up\n",
      "observation: 24, reward: -1, done: False\n",
      "o  o  o  o  o  o  o  o  o  o  o  o\n",
      "o  o  o  o  o  o  o  o  o  o  o  o\n",
      "x  o  o  o  o  o  o  o  o  o  o  o\n",
      "o  C  C  C  C  C  C  C  C  C  C  T\n",
      "\n",
      "Random step 3 : right\n",
      "observation: 25, reward: -1, done: False\n",
      "o  o  o  o  o  o  o  o  o  o  o  o\n",
      "o  o  o  o  o  o  o  o  o  o  o  o\n",
      "o  x  o  o  o  o  o  o  o  o  o  o\n",
      "o  C  C  C  C  C  C  C  C  C  C  T\n",
      "\n",
      "Random step 4 : down\n",
      "observation: 36, reward: -100, done: False\n",
      "o  o  o  o  o  o  o  o  o  o  o  o\n",
      "o  o  o  o  o  o  o  o  o  o  o  o\n",
      "o  o  o  o  o  o  o  o  o  o  o  o\n",
      "x  C  C  C  C  C  C  C  C  C  C  T\n",
      "\n",
      "Random step 5 : right\n",
      "observation: 36, reward: -100, done: False\n",
      "o  o  o  o  o  o  o  o  o  o  o  o\n",
      "o  o  o  o  o  o  o  o  o  o  o  o\n",
      "o  o  o  o  o  o  o  o  o  o  o  o\n",
      "x  C  C  C  C  C  C  C  C  C  C  T\n",
      "\n"
     ]
    }
   ],
   "source": [
    "# Make the cliffwalking env using gym\n",
    "env = gym.make('CliffWalking-v0')\n",
    "\n",
    "map_action2dir = {0: 'up', 1:'right', 2:'down', 3:'left'}\n",
    "\n",
    "# Reset and show initial position\n",
    "env.reset()\n",
    "print('Initial position')\n",
    "env.render()\n",
    "\n",
    "# Do 5 random actions\n",
    "for i in range(5):\n",
    "    action = env.action_space.sample()\n",
    "    print('Random step {} : {}'.format(i+1, map_action2dir[action]))\n",
    "    out = env.step(action) # take a random action\n",
    "    print('observation: {}, reward: {}, done: {}'.format(*out))\n",
    "    env.render()"
   ]
  },
  {
   "cell_type": "markdown",
   "metadata": {},
   "source": [
    "### SARSA Algorithm"
   ]
  },
  {
   "cell_type": "markdown",
   "metadata": {},
   "source": [
    "Below, we set up our agent, its method to update the Q-matrix, and its method to choose an action.<br>We also define a function to run the algorithm ang generate rewards."
   ]
  },
  {
   "cell_type": "code",
   "execution_count": 3,
   "metadata": {},
   "outputs": [],
   "source": [
    "class SarsaAgent:\n",
    "    \"\"\"\n",
    "    Uses the `Agent` base class. Implements SARSA to find a near-optimal policy.\n",
    "    \"\"\"\n",
    "    def __init__(self, epsilon, alpha, gamma, num_state, num_actions, action_space):\n",
    "        \"\"\"\n",
    "        Parameters:\n",
    "            epsilon: The degree of exploration. Between [0,1].\n",
    "            alpha: The learning rate.\n",
    "            gamma: The discount factor. Between [0,1].\n",
    "            num_state: The number of states.\n",
    "            num_actions: The number of actions.\n",
    "            action_space: The environment's action space.\n",
    "        \"\"\"\n",
    "        # Set all attributes\n",
    "        self.epsilon = epsilon\n",
    "        self.alpha = alpha\n",
    "        self.gamma = gamma\n",
    "        self.num_state = num_state\n",
    "        self.num_actions = num_actions\n",
    "        self.action_space = action_space\n",
    "        \n",
    "        # Create Q matrix based on states and actions.\n",
    "        # Q[s,a] calls a specific cell in the matrix.\n",
    "        self.Q = np.zeros((self.num_state, self.num_actions))\n",
    "        \n",
    "    def reset_Q(self):\n",
    "        self.Q = np.zeros((self.num_state, self.num_actions))\n",
    "\n",
    "    def update(self, state, action, reward, next_state, next_action): \n",
    "        \"\"\"\n",
    "        Update our Q-matrix using SARSA.\n",
    "        Q[S, A] = Q[S, A] + alpha(R + (gamma * Q[S', A'] - Q[S, A])\n",
    "        Parameters:\n",
    "            state: The current state\n",
    "            action: the current action\n",
    "            reward: The reward for taking `action` from `state`\n",
    "            next_state: The next state\n",
    "            next_action: The next action\n",
    "        Returns:\n",
    "            None\n",
    "        \"\"\"\n",
    "        predict = self.Q[state, action]\n",
    "        target = reward + self.gamma * self.Q[next_state, next_action]\n",
    "        self.Q[state, action] += self.alpha * (target - predict)\n",
    "        \n",
    "    def epsilon_greedy_choice(self, state): \n",
    "        \"\"\"\n",
    "        Implement epsilon-greedy action choice.\n",
    "        Based on our epsilon value, we will either:\n",
    "        1) Choose a random action (exploration)\n",
    "        2) Choose the greedy aciton based on our\n",
    "        Q-matrix (exploitation)\n",
    "        \"\"\"\n",
    "        action = 0\n",
    "        # exploration\n",
    "        if np.random.uniform(0, 1) < self.epsilon: \n",
    "            action = self.action_space.sample()\n",
    "        # exploitation\n",
    "        else:\n",
    "            action = np.argmax(self.Q[state, :]) \n",
    "        return action\n",
    "    \n",
    "    def sarsa_iteration(self, env, state1, action1, epsilon, \n",
    "                        max_steps, alpha, gamma):\n",
    "        \"\"\"\n",
    "        Iterate once for the SARSA algorithm.\n",
    "        \"\"\"\n",
    "        # Take an action and get the output\n",
    "        state2, reward, done, _ = env.step(action1) \n",
    "\n",
    "        # Choose the next action via epsilon-greedy policy\n",
    "        action2 = agent.epsilon_greedy_choice(state2) \n",
    "\n",
    "        # Update the Q-matrix\n",
    "        agent.update(state1, action1, reward, state2, action2) \n",
    "\n",
    "        state1 = state2 \n",
    "        action1 = action2 \n",
    "        return state1, action1, reward, done\n",
    "        \n",
    "    \n",
    "    def run(self, env, epsilon=0.1, total_episodes=1000,\n",
    "            max_steps=100, alpha=0.05, gamma=0.95, epsilon_decay=False):\n",
    "        \"\"\"\n",
    "        Run the SARSA agent.\n",
    "\n",
    "        Parameters:\n",
    "            env: The environment.\n",
    "            total_episodes: The number of episodes to run\n",
    "        \"\"\"\n",
    "        # Storage for episode rewards\n",
    "        totalReward = []\n",
    "\n",
    "        # Run all episodes, appl|ying the SARSA algorithm\n",
    "        for _ in range(total_episodes):\n",
    "            # Initialize\n",
    "            t = 0\n",
    "            state1 = env.reset() \n",
    "            action1 = agent.epsilon_greedy_choice(state1) \n",
    "            episodeReward = 0\n",
    "            while t < max_steps:\n",
    "                # Do one iteration\n",
    "                state1, action1, reward, done = agent.sarsa_iteration(\n",
    "                    env, state1, action1, epsilon, max_steps, alpha, gamma\n",
    "                )\n",
    "                \n",
    "                # Update iters\n",
    "                t += 1\n",
    "                episodeReward += reward\n",
    "\n",
    "                # Break if the target location is reached \n",
    "                if done: \n",
    "                    break\n",
    "                # Whether or not to decay epsilon\n",
    "                if epsilon_decay:\n",
    "                    if t%100:\n",
    "                        agent.epsilon /= 2\n",
    "            # Append the sum of reward at the end of the episode\n",
    "            totalReward.append(episodeReward)\n",
    "        env.close()\n",
    "        return totalReward"
   ]
  },
  {
   "cell_type": "markdown",
   "metadata": {},
   "source": [
    "We also set up a plotting function."
   ]
  },
  {
   "cell_type": "code",
   "execution_count": 12,
   "metadata": {
    "scrolled": false
   },
   "outputs": [],
   "source": [
    "def plot_mean_reward(x, title):\n",
    "    plt.subplots(figsize=(8,5), dpi=75)\n",
    "    plt.plot(x.rolling(10).mean())\n",
    "    plt.ylim(-300,0)\n",
    "    plt.xlabel('Episode')\n",
    "    plt.ylabel('Mean reward')\n",
    "    plt.title(title, fontsize=12)"
   ]
  },
  {
   "cell_type": "markdown",
   "metadata": {},
   "source": [
    "Now, generate two runs of the SARSA algorithm.\n",
    "1. The first uses epsilon-decay. This basically discourages exploration the more episodes are done.<br>This yields a smoother reward curve, and is frequently done in advanced algorithms.\n",
    "2. The second does not use epsilon-decay. The plot for this is more erratic because even when the algorithm is 'smart',<br>it can still make 'stupid' random mistakes."
   ]
  },
  {
   "cell_type": "code",
   "execution_count": 13,
   "metadata": {},
   "outputs": [
    {
     "data": {
      "image/png": "[encoded data removed]",
      "text/plain": [
       "<Figure size 600x375 with 1 Axes>"
      ]
     },
     "metadata": {
      "needs_background": "light"
     },
     "output_type": "display_data"
    },
    {
     "data": {
      "image/png": "[encoded data removed]",
      "text/plain": [
       "<Figure size 600x375 with 1 Axes>"
      ]
     },
     "metadata": {
      "needs_background": "light"
     },
     "output_type": "display_data"
    }
   ],
   "source": [
    "# Define all required parameters\n",
    "epsilon = 0.1\n",
    "total_episodes = 1000\n",
    "max_steps = 100\n",
    "alpha = 0.05\n",
    "gamma = 0.95\n",
    "\n",
    "# Define agent\n",
    "agent = SarsaAgent(\n",
    "    epsilon, alpha, gamma, env.observation_space.n, \n",
    "    env.action_space.n, env.action_space\n",
    ")\n",
    "\n",
    "# Get results with and without epsilon decay\n",
    "rewards_w_decay = pd.Series(\n",
    "    agent.run(env, epsilon_decay=True)\n",
    ")\n",
    "agent.epsilon = epsilon # reset epsilon\n",
    "agent.reset_Q() # reset Q matrix\n",
    "rewards_no_decay = pd.Series(\n",
    "    agent.run(env, epsilon_decay=False)\n",
    ")\n",
    "\n",
    "plot_mean_reward(\n",
    "    rewards_w_decay, \n",
    "    title='Mean reward per episode (rolling window of 10),\\nwith epsilon-decay'\n",
    ")\n",
    "\n",
    "plot_mean_reward(\n",
    "    rewards_no_decay, \n",
    "    title='Mean reward per episode (rolling window of 10),\\nno epsilon-decay'\n",
    ")\n",
    "\n",
    "plt.show()"
   ]
  }
 ],
 "metadata": {
  "kernelspec": {
   "display_name": "Python 3",
   "language": "python",
   "name": "python3"
  },
  "language_info": {
   "codemirror_mode": {
    "name": "ipython",
    "version": 3
   },
   "file_extension": ".py",
   "mimetype": "text/x-python",
   "name": "python",
   "nbconvert_exporter": "python",
   "pygments_lexer": "ipython3",
   "version": "3.7.4"
  }
 },
 "nbformat": 4,
 "nbformat_minor": 2
}
